{
 "cells": [
  {
   "cell_type": "code",
   "execution_count": 1,
   "metadata": {},
   "outputs": [],
   "source": [
    "from lxml import html\n",
    "import requests\n",
    "import urllib"
   ]
  },
  {
   "cell_type": "code",
   "execution_count": 2,
   "metadata": {},
   "outputs": [],
   "source": [
    "# get page http://consumer.nutrasource.ca/ifos/product-reports/\n",
    "url = \"http://consumer.nutrasource.ca/ifos/product-reports/\"\n",
    "response = requests.get(url)"
   ]
  },
  {
   "cell_type": "code",
   "execution_count": 3,
   "metadata": {},
   "outputs": [],
   "source": [
    "# convert to html and build file list\n",
    "page = html.fromstring(response.content)\n",
    "pdf_files = page.xpath('//a[contains(@href,\"/files/\")]/@href')\n"
   ]
  },
  {
   "cell_type": "code",
   "execution_count": 4,
   "metadata": {},
   "outputs": [],
   "source": [
    "def fix_url(url):\n",
    "    url = url.replace(\" \", \"%20\")\n",
    "    url = url.replace(\"!\", \"%21\")\n",
    "    url = url.replace(\",\", \"%2C\")\n",
    "    return url"
   ]
  },
  {
   "cell_type": "code",
   "execution_count": 9,
   "metadata": {},
   "outputs": [],
   "source": [
    "# create list of pdf urls\n",
    "prefix = \"http://consumer.nutrasource.ca/\"\n",
    "pdf_paths = [prefix + fix_url(str(file)) for file in pdf_files]"
   ]
  },
  {
   "cell_type": "code",
   "execution_count": 10,
   "metadata": {},
   "outputs": [
    {
     "name": "stdout",
     "output_type": "stream",
     "text": [
      "989\n",
      "['http://consumer.nutrasource.ca//files/IFOS%20See%20Yourself%20Well%20Omega%203%201500%20Lemon.pdf', 'http://consumer.nutrasource.ca//files/1800PetMeds%20-%20Super%20Pure%20Omega%20Lot%201620911B.pdf', 'http://consumer.nutrasource.ca//files/1800PetMeds%20-%20Super%20Pure%20Omega%20Lot%201703803B.pdf', 'http://consumer.nutrasource.ca//files/IFOS%20AMB%20WELL%201806055.pdf', 'http://consumer.nutrasource.ca//files/IFOS%20AMB%20Well%20Omega-3%20Liquid%20Gold%20lot%203277.pdf', 'http://consumer.nutrasource.ca//files/IFOS%20AMB%20WELL%2C%20lot%201804054.pdf', 'http://consumer.nutrasource.ca//files/IFOS%20AMB%20WELL%2C%20lot%20803067.pdf', 'http://consumer.nutrasource.ca//files/IFOS%20AMB%20WELL%2C%20lot%201801140.pdf', 'http://consumer.nutrasource.ca//files/IFOS%20AMB%20WELL%2C%20lot%201710010Rev1.pdf', 'http://consumer.nutrasource.ca//files/IFOS%20AMB%20WELL%2C%20lot%201706088.pdf']\n"
     ]
    }
   ],
   "source": [
    "print(len(pdf_paths))\n",
    "print(pdf_paths[:10])"
   ]
  },
  {
   "cell_type": "code",
   "execution_count": 11,
   "metadata": {},
   "outputs": [],
   "source": [
    "# Get PDF elements"
   ]
  },
  {
   "cell_type": "code",
   "execution_count": 12,
   "metadata": {},
   "outputs": [],
   "source": [
    "pdf_response = requests.get(pdf_paths[0])"
   ]
  },
  {
   "cell_type": "code",
   "execution_count": null,
   "metadata": {},
   "outputs": [],
   "source": []
  }
 ],
 "metadata": {
  "kernelspec": {
   "display_name": "Python 3",
   "language": "python",
   "name": "python3"
  },
  "language_info": {
   "codemirror_mode": {
    "name": "ipython",
    "version": 3
   },
   "file_extension": ".py",
   "mimetype": "text/x-python",
   "name": "python",
   "nbconvert_exporter": "python",
   "pygments_lexer": "ipython3",
   "version": "3.6.5"
  }
 },
 "nbformat": 4,
 "nbformat_minor": 2
}
